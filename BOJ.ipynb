{
 "cells": [
  {
   "cell_type": "code",
   "execution_count": null,
   "metadata": {},
   "outputs": [],
   "source": [
    "#BOJ - 1946번 (신입 사원)\n",
    "#https://www.acmicpc.net/problem/1946\n",
    "#https://www.acmicpc.net/source/70840591\n",
    "\n",
    "import sys\n",
    "\n",
    "input = sys.stdin.readline\n",
    "\n",
    "t = int(input())\n",
    "INF = int(1e9)\n",
    "for _ in range(t):\n",
    "    n = int(input())\n",
    "    applicant_list = []\n",
    "    rank = [INF] * (n+1) #이 리스트를 활용하여 성적 중 하나가 다른 지원자보다 떨어지지 않는 지원자 구분\n",
    "    for _ in range(n):\n",
    "        a,b = map(int,input().split())\n",
    "        applicant_list.append((a,b))\n",
    "    applicant_list.sort()\n",
    "    answer = 0\n",
    "    for applicant in applicant_list:\n",
    "        if rank[applicant[0]-1] > applicant[1]:\n",
    "            answer += 1\n",
    "        rank[applicant[0]] = min(rank[applicant[0]-1],applicant[1])\n",
    "    print(answer)"
   ]
  },
  {
   "cell_type": "markdown",
   "metadata": {},
   "source": [
    "백준 온라인 저지 1946번 문제, 신입 사원의 해답이다. rank 리스트가 문제 풀이의 핵심으로, 이 리스트를 활용하여 서류심사 n등인 경우 면접 성적은 rank[applicant[0]]보다 좋아야 통과한다는 로직을 구현했고, 이를 통해 문제를 해결했다."
   ]
  }
 ],
 "metadata": {
  "kernelspec": {
   "display_name": "Python 3",
   "language": "python",
   "name": "python3"
  },
  "language_info": {
   "codemirror_mode": {
    "name": "ipython",
    "version": 3
   },
   "file_extension": ".py",
   "mimetype": "text/x-python",
   "name": "python",
   "nbconvert_exporter": "python",
   "pygments_lexer": "ipython3",
   "version": "3.11.2"
  }
 },
 "nbformat": 4,
 "nbformat_minor": 2
}
